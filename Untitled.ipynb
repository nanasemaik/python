{
 "cells": [
  {
   "cell_type": "code",
   "execution_count": 1,
   "metadata": {},
   "outputs": [],
   "source": [
    "import requests\n",
    "from bs4 import BeautifulSoup\n",
    "from lxml import etree"
   ]
  },
  {
   "cell_type": "code",
   "execution_count": 2,
   "metadata": {},
   "outputs": [],
   "source": [
    "url = 'https://live.500.com/wanchang.php?e=2022-01-30'\n",
    "page1 = requests.get(url, headers={'content-type': 'text/html; charset=UTF-8', 'User-Agent': 'Mozilla/5.0'},timeout=10)\n",
    "page1.encoding = 'gbk'\n",
    "soup = BeautifulSoup(page1.text, \"html.parser\")\n",
    "table_bf = soup.find('table', class_='bf_tablelist01')\n",
    "all_games = table_bf.find_all('tr') # 所有比赛\n",
    "all_games = all_games[1:] # 去除第一个"
   ]
  },
  {
   "cell_type": "code",
   "execution_count": null,
   "metadata": {},
   "outputs": [],
   "source": [
    "for game in all_games:\n",
    "    if str(game).find('gy=') > 0: #去除90分钟加时数据\n",
    "        game_content = game['gy']\n",
    "        print(game_content)\n",
    "        game_list = game_content.split(',') # 联赛，主队，客队\n",
    "        print(game_list)\n",
    "        td_all = game.find_all('td')\n",
    "        game_time = td_all[2].get_text() #比赛时间\n",
    "        print(game_time)\n",
    "        game_half_bf = td_all[7].get_text() #半场比分\n",
    "        print(game_half_bf)\n",
    "        game_lc = td_all[1].get_text() # 比赛轮次\n",
    "        print(game_lc)\n",
    "        game_bf = td_all[5].get_text() # 比赛比分\n",
    "        print(game_bf)\n",
    "        game_id = game['id'][1:] #比赛id用来进入分析页面\n",
    "        print(game_id)\n",
    "        game_zt = td_all[3].get_text() # 比赛状态，如果改期，跳过，取‘完’赛状态\n",
    "        print(game_zt)\n",
    "        # 只要亚盘指数和大小球指数，欧赔指数\n",
    "        url_ouzhi = f\"https://odds.500.com/fenxi/ouzhi-{game_id}.shtml\"\n",
    "        url_yazhi = f\"https://odds.500.com/fenxi/yazhi-{game_id}.shtml\"\n",
    "        url_daxiao = f\"https://odds.500.com/fenxi/daxiao-{game_id}.shtml\"\n",
    "\n",
    "        page_ouzhi = requests.get(url_ouzhi, headers={'content-type': 'text/html; charset=UTF-8', 'User-Agent': 'Mozilla/5.0'},timeout=10)\n",
    "        page_ouzhi.encoding = 'gbk'\n",
    "        print(page_ouzhi.text)\n",
    "\n",
    "\n",
    "\n"
   ]
  },
  {
   "cell_type": "code",
   "execution_count": 20,
   "metadata": {},
   "outputs": [
    {
     "name": "stdout",
     "output_type": "stream",
     "text": [
      "澳足杯,墨尔本胜利,惠灵顿凤凰\n",
      "威廉希尔\n",
      "<td>\n",
      "<table cellpadding=\"0\" cellspacing=\"0\" class=\"pl_table_data\">\n",
      "<tbody>\n",
      "<tr class=\"tr_bdb td_show_cp\" style=\"display:;\">\n",
      "<td klfc=\"0.89\" onclick=\"OZ.r(this)\" row=\"1\" style=\"cursor:pointer\" width=\"33.3%\"> 2.00</td>\n",
      "<td klfc=\"16.54\" onclick=\"OZ.r(this)\" row=\"1\" style=\"cursor:pointer\" width=\"33.3%\">3.30</td>\n",
      "<td klfc=\"7.27\" onclick=\"OZ.r(this)\" row=\"1\" style=\"cursor:pointer\"> 3.25</td>\n",
      "</tr>\n",
      "<tr>\n",
      "<td class=\"bg-b\" klfc=\"7.11\" onclick=\"OZ.r(this)\" row=\"1\" style=\"cursor:pointer\" width=\"33.3%\">1.91</td>\n",
      "<td class=\"bg-b\" klfc=\"18.44\" onclick=\"OZ.r(this)\" row=\"1\" style=\"cursor:pointer\" width=\"33.3%\">3.25</td>\n",
      "<td class=\"bg-a\" klfc=\"0.00\" onclick=\"OZ.r(this)\" row=\"1\" style=\"cursor:pointer\">3.60</td>\n",
      "</tr>\n",
      "</tbody>\n",
      "</table>\n",
      "</td>\n"
     ]
    }
   ],
   "source": [
    "game = all_games[0]\n",
    "game_content = game['gy']\n",
    "print(game_content)\n",
    "game_id = game['id'][1:] #比赛id用来进入分析页面\n",
    "url_ouzhi = f\"https://odds.500.com/fenxi/ouzhi-{game_id}.shtml\"\n",
    "page_ouzhi = requests.get(url_ouzhi, headers={'content-type': 'text/html; charset=UTF-8', 'User-Agent': 'Mozilla/5.0'},timeout=10)\n",
    "page_ouzhi.encoding = 'gbk'\n",
    "soup = BeautifulSoup(page_ouzhi.text, \"html.parser\")\n",
    "table_ouzhi = soup.find('table', class_='pub_table',id='datatb')\n",
    "\n",
    "\n",
    "\n",
    "list_ouzhi = table_ouzhi.find_all('tr')\n",
    "list_ouzhi_1 = list_ouzhi[0].find_all('td') #循环\n",
    "\n",
    "list_1 = list_ouzhi_1[1].find('span').get_text() #赔率公司名称\n",
    "\n",
    "\n",
    "print(list_1)\n",
    "list_2 = list_ouzhi_1[2] #即时欧赔,含最初欧赔\n",
    "print(list_2)\n"
   ]
  },
  {
   "cell_type": "code",
   "execution_count": 21,
   "metadata": {},
   "outputs": [
    {
     "name": "stdout",
     "output_type": "stream",
     "text": [
      "[' 2.00', '3.30', ' 3.25']\n",
      "['1.91', '3.25', '3.60']\n"
     ]
    }
   ],
   "source": [
    "html = etree.HTML(str(list_2))\n",
    "x = html.xpath(\"//tr[1]/td/text()\") # 初始欧赔指数\n",
    "print(x)\n",
    "y = html.xpath(\"//tr[2]/td/text()\") # 最新欧赔指数\n",
    "print(y)"
   ]
  }
 ],
 "metadata": {
  "interpreter": {
   "hash": "0c6699ac408462855a56ae8a7bd28baf910ed2b41c73f11746b3bcab5d3b483e"
  },
  "kernelspec": {
   "display_name": "Python 3.7.7 64-bit (system)",
   "language": "python",
   "name": "python3"
  },
  "language_info": {
   "codemirror_mode": {
    "name": "ipython",
    "version": 3
   },
   "file_extension": ".py",
   "mimetype": "text/x-python",
   "name": "python",
   "nbconvert_exporter": "python",
   "pygments_lexer": "ipython3",
   "version": "3.7.7"
  },
  "orig_nbformat": 4
 },
 "nbformat": 4,
 "nbformat_minor": 2
}
